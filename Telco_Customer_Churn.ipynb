{
  "nbformat": 4,
  "nbformat_minor": 0,
  "metadata": {
    "colab": {
      "name": "Telco Customer Churn",
      "provenance": [],
      "collapsed_sections": [],
      "toc_visible": true,
      "authorship_tag": "ABX9TyMnAvO3AI6RBJ5n7w6pFqJ9",
      "include_colab_link": true
    },
    "kernelspec": {
      "name": "python3",
      "display_name": "Python 3"
    },
    "language_info": {
      "name": "python"
    }
  },
  "cells": [
    {
      "cell_type": "markdown",
      "metadata": {
        "id": "view-in-github",
        "colab_type": "text"
      },
      "source": [
        "<a href=\"https://colab.research.google.com/github/oghenerosiloko/Telecom-Customer-Churn/blob/main/Telco_Customer_Churn.ipynb\" target=\"_parent\"><img src=\"https://colab.research.google.com/assets/colab-badge.svg\" alt=\"Open In Colab\"/></a>"
      ]
    },
    {
      "cell_type": "markdown",
      "metadata": {
        "id": "C9DzjlmB2AYk"
      },
      "source": [
        "![5fbd9526-dbfb-4be0-be29-bad6389ed248-thumb.jpg](data:image/jpeg;base64,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)"
      ]
    },
    {
      "cell_type": "markdown",
      "metadata": {
        "id": "i6hGLlgXk9Xw"
      },
      "source": [
        "# **Telco Customer Churn**\n",
        "### **Customer Retention Focus**\n",
        "The analysis below aim to evaluate the costumer behaviour of the Telecom company especially as regards the churn rate of customers from their services. I will be exploring the dataset of the telecom to assess the various factors that influence the churn rate of their customers and proffer possible solutions from the insights that would be derived from the analysis."
      ]
    },
    {
      "cell_type": "markdown",
      "metadata": {
        "id": "DToFy2HY7Tzs"
      },
      "source": [
        " #Importing Dataset and Necessary Libraries#"
      ]
    },
    {
      "cell_type": "code",
      "metadata": {
        "id": "PSsTbAtJ7z64"
      },
      "source": [
        "import pandas as pd\n",
        "import seaborn as sns\n",
        "import numpy as np\n",
        "import matplotlib.pyplot as plt\n",
        "%matplotlib inline"
      ],
      "execution_count": null,
      "outputs": []
    },
    {
      "cell_type": "code",
      "metadata": {
        "colab": {
          "base_uri": "https://localhost:8080/"
        },
        "id": "mHyd_HU39Ev7",
        "outputId": "9a14e86e-68b8-4f52-8c91-2626718616d7"
      },
      "source": [
        " from google.colab import drive\n",
        "drive.mount('/content/drive')"
      ],
      "execution_count": null,
      "outputs": [
        {
          "output_type": "stream",
          "text": [
            "Mounted at /content/drive\n"
          ],
          "name": "stdout"
        }
      ]
    },
    {
      "cell_type": "code",
      "metadata": {
        "id": "_Ln14qxM9e9N"
      },
      "source": [
        " Telco=pd.read_csv(\"/content/drive/MyDrive/Colab Notebooks/Teleco_churn.csv\")"
      ],
      "execution_count": null,
      "outputs": []
    },
    {
      "cell_type": "code",
      "metadata": {
        "colab": {
          "base_uri": "https://localhost:8080/",
          "height": 293
        },
        "id": "jtEq1gAv-gq6",
        "outputId": "af31f338-b93f-4ddc-99c2-32b2ea8884b2"
      },
      "source": [
        "#Check imported data\n",
        "Telco.head(5)"
      ],
      "execution_count": null,
      "outputs": [
        {
          "output_type": "execute_result",
          "data": {
            "text/html": [
              "<div>\n",
              "<style scoped>\n",
              "    .dataframe tbody tr th:only-of-type {\n",
              "        vertical-align: middle;\n",
              "    }\n",
              "\n",
              "    .dataframe tbody tr th {\n",
              "        vertical-align: top;\n",
              "    }\n",
              "\n",
              "    .dataframe thead th {\n",
              "        text-align: right;\n",
              "    }\n",
              "</style>\n",
              "<table border=\"1\" class=\"dataframe\">\n",
              "  <thead>\n",
              "    <tr style=\"text-align: right;\">\n",
              "      <th></th>\n",
              "      <th>customerID</th>\n",
              "      <th>gender</th>\n",
              "      <th>SeniorCitizen</th>\n",
              "      <th>Partner</th>\n",
              "      <th>Dependents</th>\n",
              "      <th>tenure</th>\n",
              "      <th>PhoneService</th>\n",
              "      <th>MultipleLines</th>\n",
              "      <th>InternetService</th>\n",
              "      <th>OnlineSecurity</th>\n",
              "      <th>OnlineBackup</th>\n",
              "      <th>DeviceProtection</th>\n",
              "      <th>TechSupport</th>\n",
              "      <th>StreamingTV</th>\n",
              "      <th>StreamingMovies</th>\n",
              "      <th>Contract</th>\n",
              "      <th>PaperlessBilling</th>\n",
              "      <th>PaymentMethod</th>\n",
              "      <th>MonthlyCharges</th>\n",
              "      <th>TotalCharges</th>\n",
              "      <th>Churn</th>\n",
              "    </tr>\n",
              "  </thead>\n",
              "  <tbody>\n",
              "    <tr>\n",
              "      <th>0</th>\n",
              "      <td>7590-VHVEG</td>\n",
              "      <td>Female</td>\n",
              "      <td>0</td>\n",
              "      <td>Yes</td>\n",
              "      <td>No</td>\n",
              "      <td>1</td>\n",
              "      <td>No</td>\n",
              "      <td>No phone service</td>\n",
              "      <td>DSL</td>\n",
              "      <td>No</td>\n",
              "      <td>Yes</td>\n",
              "      <td>No</td>\n",
              "      <td>No</td>\n",
              "      <td>No</td>\n",
              "      <td>No</td>\n",
              "      <td>Month-to-month</td>\n",
              "      <td>Yes</td>\n",
              "      <td>Electronic check</td>\n",
              "      <td>29.85</td>\n",
              "      <td>29.85</td>\n",
              "      <td>No</td>\n",
              "    </tr>\n",
              "    <tr>\n",
              "      <th>1</th>\n",
              "      <td>5575-GNVDE</td>\n",
              "      <td>Male</td>\n",
              "      <td>0</td>\n",
              "      <td>No</td>\n",
              "      <td>No</td>\n",
              "      <td>34</td>\n",
              "      <td>Yes</td>\n",
              "      <td>No</td>\n",
              "      <td>DSL</td>\n",
              "      <td>Yes</td>\n",
              "      <td>No</td>\n",
              "      <td>Yes</td>\n",
              "      <td>No</td>\n",
              "      <td>No</td>\n",
              "      <td>No</td>\n",
              "      <td>One year</td>\n",
              "      <td>No</td>\n",
              "      <td>Mailed check</td>\n",
              "      <td>56.95</td>\n",
              "      <td>1889.5</td>\n",
              "      <td>No</td>\n",
              "    </tr>\n",
              "    <tr>\n",
              "      <th>2</th>\n",
              "      <td>3668-QPYBK</td>\n",
              "      <td>Male</td>\n",
              "      <td>0</td>\n",
              "      <td>No</td>\n",
              "      <td>No</td>\n",
              "      <td>2</td>\n",
              "      <td>Yes</td>\n",
              "      <td>No</td>\n",
              "      <td>DSL</td>\n",
              "      <td>Yes</td>\n",
              "      <td>Yes</td>\n",
              "      <td>No</td>\n",
              "      <td>No</td>\n",
              "      <td>No</td>\n",
              "      <td>No</td>\n",
              "      <td>Month-to-month</td>\n",
              "      <td>Yes</td>\n",
              "      <td>Mailed check</td>\n",
              "      <td>53.85</td>\n",
              "      <td>108.15</td>\n",
              "      <td>Yes</td>\n",
              "    </tr>\n",
              "    <tr>\n",
              "      <th>3</th>\n",
              "      <td>7795-CFOCW</td>\n",
              "      <td>Male</td>\n",
              "      <td>0</td>\n",
              "      <td>No</td>\n",
              "      <td>No</td>\n",
              "      <td>45</td>\n",
              "      <td>No</td>\n",
              "      <td>No phone service</td>\n",
              "      <td>DSL</td>\n",
              "      <td>Yes</td>\n",
              "      <td>No</td>\n",
              "      <td>Yes</td>\n",
              "      <td>Yes</td>\n",
              "      <td>No</td>\n",
              "      <td>No</td>\n",
              "      <td>One year</td>\n",
              "      <td>No</td>\n",
              "      <td>Bank transfer (automatic)</td>\n",
              "      <td>42.30</td>\n",
              "      <td>1840.75</td>\n",
              "      <td>No</td>\n",
              "    </tr>\n",
              "    <tr>\n",
              "      <th>4</th>\n",
              "      <td>9237-HQITU</td>\n",
              "      <td>Female</td>\n",
              "      <td>0</td>\n",
              "      <td>No</td>\n",
              "      <td>No</td>\n",
              "      <td>2</td>\n",
              "      <td>Yes</td>\n",
              "      <td>No</td>\n",
              "      <td>Fiber optic</td>\n",
              "      <td>No</td>\n",
              "      <td>No</td>\n",
              "      <td>No</td>\n",
              "      <td>No</td>\n",
              "      <td>No</td>\n",
              "      <td>No</td>\n",
              "      <td>Month-to-month</td>\n",
              "      <td>Yes</td>\n",
              "      <td>Electronic check</td>\n",
              "      <td>70.70</td>\n",
              "      <td>151.65</td>\n",
              "      <td>Yes</td>\n",
              "    </tr>\n",
              "  </tbody>\n",
              "</table>\n",
              "</div>"
            ],
            "text/plain": [
              "   customerID  gender  SeniorCitizen  ... MonthlyCharges TotalCharges  Churn\n",
              "0  7590-VHVEG  Female              0  ...          29.85        29.85     No\n",
              "1  5575-GNVDE    Male              0  ...          56.95       1889.5     No\n",
              "2  3668-QPYBK    Male              0  ...          53.85       108.15    Yes\n",
              "3  7795-CFOCW    Male              0  ...          42.30      1840.75     No\n",
              "4  9237-HQITU  Female              0  ...          70.70       151.65    Yes\n",
              "\n",
              "[5 rows x 21 columns]"
            ]
          },
          "metadata": {
            "tags": []
          },
          "execution_count": 9
        }
      ]
    },
    {
      "cell_type": "code",
      "metadata": {
        "colab": {
          "base_uri": "https://localhost:8080/"
        },
        "id": "6fKt9cq7-yUk",
        "outputId": "a1ec3978-f448-48ed-cfeb-780ad9a9acd7"
      },
      "source": [
        " \n",
        "#Check Data Columns\n",
        "Telco.columns"
      ],
      "execution_count": null,
      "outputs": [
        {
          "output_type": "execute_result",
          "data": {
            "text/plain": [
              "Index(['customerID', 'gender', 'SeniorCitizen', 'Partner', 'Dependents',\n",
              "       'tenure', 'PhoneService', 'MultipleLines', 'InternetService',\n",
              "       'OnlineSecurity', 'OnlineBackup', 'DeviceProtection', 'TechSupport',\n",
              "       'StreamingTV', 'StreamingMovies', 'Contract', 'PaperlessBilling',\n",
              "       'PaymentMethod', 'MonthlyCharges', 'TotalCharges', 'Churn'],\n",
              "      dtype='object')"
            ]
          },
          "metadata": {
            "tags": []
          },
          "execution_count": 12
        }
      ]
    },
    {
      "cell_type": "code",
      "metadata": {
        "colab": {
          "base_uri": "https://localhost:8080/"
        },
        "id": "PJP9OOiE_XZc",
        "outputId": "a3a31a8b-61ed-420a-d70a-d07f8f92f4c8"
      },
      "source": [
        "#checking Data shape\n",
        "Telco.shape"
      ],
      "execution_count": null,
      "outputs": [
        {
          "output_type": "execute_result",
          "data": {
            "text/plain": [
              "(7043, 21)"
            ]
          },
          "metadata": {
            "tags": []
          },
          "execution_count": 13
        }
      ]
    },
    {
      "cell_type": "markdown",
      "metadata": {
        "id": "7qdNJ3BR_f8R"
      },
      "source": [
        "We can see the data consist of 7043 rows and 21 columns..."
      ]
    },
    {
      "cell_type": "code",
      "metadata": {
        "colab": {
          "base_uri": "https://localhost:8080/"
        },
        "id": "ereVEUCD_ogr",
        "outputId": "d71dd4d0-97a4-4019-d725-7e360e86b2da"
      },
      "source": [
        "#check for data types\n",
        "Telco.dtypes"
      ],
      "execution_count": null,
      "outputs": [
        {
          "output_type": "execute_result",
          "data": {
            "text/plain": [
              "customerID           object\n",
              "gender               object\n",
              "SeniorCitizen         int64\n",
              "Partner              object\n",
              "Dependents           object\n",
              "tenure                int64\n",
              "PhoneService         object\n",
              "MultipleLines        object\n",
              "InternetService      object\n",
              "OnlineSecurity       object\n",
              "OnlineBackup         object\n",
              "DeviceProtection     object\n",
              "TechSupport          object\n",
              "StreamingTV          object\n",
              "StreamingMovies      object\n",
              "Contract             object\n",
              "PaperlessBilling     object\n",
              "PaymentMethod        object\n",
              "MonthlyCharges      float64\n",
              "TotalCharges         object\n",
              "Churn                object\n",
              "dtype: object"
            ]
          },
          "metadata": {
            "tags": []
          },
          "execution_count": 16
        }
      ]
    },
    {
      "cell_type": "markdown",
      "metadata": {
        "id": "6VJ-cQ5hAR9r"
      },
      "source": [
        "The Total charge column is object type which is not supposed to be, we therefore have to convert it to float type as it should be"
      ]
    },
    {
      "cell_type": "code",
      "metadata": {
        "id": "ixaEpyrqAkuO"
      },
      "source": [
        "#Convert Total charges column from Object to float\n",
        "Telco['TotalCharges']=pd.to_numeric(Telco['TotalCharges'], errors='coerce')"
      ],
      "execution_count": null,
      "outputs": []
    },
    {
      "cell_type": "code",
      "metadata": {
        "colab": {
          "base_uri": "https://localhost:8080/"
        },
        "id": "KiCjr8HTB6B_",
        "outputId": "f1e45be8-80c9-475e-bbd1-43c488e254ea"
      },
      "source": [
        "Telco.dtypes"
      ],
      "execution_count": null,
      "outputs": [
        {
          "output_type": "execute_result",
          "data": {
            "text/plain": [
              "customerID           object\n",
              "gender               object\n",
              "SeniorCitizen         int64\n",
              "Partner              object\n",
              "Dependents           object\n",
              "tenure                int64\n",
              "PhoneService         object\n",
              "MultipleLines        object\n",
              "InternetService      object\n",
              "OnlineSecurity       object\n",
              "OnlineBackup         object\n",
              "DeviceProtection     object\n",
              "TechSupport          object\n",
              "StreamingTV          object\n",
              "StreamingMovies      object\n",
              "Contract             object\n",
              "PaperlessBilling     object\n",
              "PaymentMethod        object\n",
              "MonthlyCharges      float64\n",
              "TotalCharges        float64\n",
              "Churn                object\n",
              "dtype: object"
            ]
          },
          "metadata": {
            "tags": []
          },
          "execution_count": 25
        }
      ]
    },
    {
      "cell_type": "markdown",
      "metadata": {
        "id": "WYSo78akB_xa"
      },
      "source": [
        "Let's take a look at Missing Data"
      ]
    },
    {
      "cell_type": "code",
      "metadata": {
        "colab": {
          "base_uri": "https://localhost:8080/"
        },
        "id": "Sdsjb6t7CG3J",
        "outputId": "2de48c06-77de-46a1-c096-351d6f94761a"
      },
      "source": [
        " Telco.isnull().sum()"
      ],
      "execution_count": null,
      "outputs": [
        {
          "output_type": "execute_result",
          "data": {
            "text/plain": [
              "customerID           0\n",
              "gender               0\n",
              "SeniorCitizen        0\n",
              "Partner              0\n",
              "Dependents           0\n",
              "tenure               0\n",
              "PhoneService         0\n",
              "MultipleLines        0\n",
              "InternetService      0\n",
              "OnlineSecurity       0\n",
              "OnlineBackup         0\n",
              "DeviceProtection     0\n",
              "TechSupport          0\n",
              "StreamingTV          0\n",
              "StreamingMovies      0\n",
              "Contract             0\n",
              "PaperlessBilling     0\n",
              "PaymentMethod        0\n",
              "MonthlyCharges       0\n",
              "TotalCharges        11\n",
              "Churn                0\n",
              "dtype: int64"
            ]
          },
          "metadata": {
            "tags": []
          },
          "execution_count": 26
        }
      ]
    },
    {
      "cell_type": "markdown",
      "metadata": {
        "id": "8XDzc4Q6CXPW"
      },
      "source": [
        "Looking at the results above, we only seem to have missing data in the total Charges column.\n",
        "We would drop the missing column as they are small compared to the whole dataset\n"
      ]
    },
    {
      "cell_type": "code",
      "metadata": {
        "id": "PR4TEUm8zmtx"
      },
      "source": [
        "#Droping missing rows\n",
        "Telco=Telco.dropna(axis=0,how='any')"
      ],
      "execution_count": 28,
      "outputs": []
    },
    {
      "cell_type": "markdown",
      "metadata": {
        "id": "S3oSTpkmz7XB"
      },
      "source": [
        "Lets take a last look at our data quality\n"
      ]
    },
    {
      "cell_type": "code",
      "metadata": {
        "colab": {
          "base_uri": "https://localhost:8080/",
          "height": 297
        },
        "id": "nccEHWOc0CJ3",
        "outputId": "871d79b3-f5cb-421f-9900-43b9b3617e7d"
      },
      "source": [
        "Telco.describe()"
      ],
      "execution_count": 31,
      "outputs": [
        {
          "output_type": "execute_result",
          "data": {
            "text/html": [
              "<div>\n",
              "<style scoped>\n",
              "    .dataframe tbody tr th:only-of-type {\n",
              "        vertical-align: middle;\n",
              "    }\n",
              "\n",
              "    .dataframe tbody tr th {\n",
              "        vertical-align: top;\n",
              "    }\n",
              "\n",
              "    .dataframe thead th {\n",
              "        text-align: right;\n",
              "    }\n",
              "</style>\n",
              "<table border=\"1\" class=\"dataframe\">\n",
              "  <thead>\n",
              "    <tr style=\"text-align: right;\">\n",
              "      <th></th>\n",
              "      <th>SeniorCitizen</th>\n",
              "      <th>tenure</th>\n",
              "      <th>MonthlyCharges</th>\n",
              "      <th>TotalCharges</th>\n",
              "    </tr>\n",
              "  </thead>\n",
              "  <tbody>\n",
              "    <tr>\n",
              "      <th>count</th>\n",
              "      <td>7032.000000</td>\n",
              "      <td>7032.000000</td>\n",
              "      <td>7032.000000</td>\n",
              "      <td>7032.000000</td>\n",
              "    </tr>\n",
              "    <tr>\n",
              "      <th>mean</th>\n",
              "      <td>0.162400</td>\n",
              "      <td>32.421786</td>\n",
              "      <td>64.798208</td>\n",
              "      <td>2283.300441</td>\n",
              "    </tr>\n",
              "    <tr>\n",
              "      <th>std</th>\n",
              "      <td>0.368844</td>\n",
              "      <td>24.545260</td>\n",
              "      <td>30.085974</td>\n",
              "      <td>2266.771362</td>\n",
              "    </tr>\n",
              "    <tr>\n",
              "      <th>min</th>\n",
              "      <td>0.000000</td>\n",
              "      <td>1.000000</td>\n",
              "      <td>18.250000</td>\n",
              "      <td>18.800000</td>\n",
              "    </tr>\n",
              "    <tr>\n",
              "      <th>25%</th>\n",
              "      <td>0.000000</td>\n",
              "      <td>9.000000</td>\n",
              "      <td>35.587500</td>\n",
              "      <td>401.450000</td>\n",
              "    </tr>\n",
              "    <tr>\n",
              "      <th>50%</th>\n",
              "      <td>0.000000</td>\n",
              "      <td>29.000000</td>\n",
              "      <td>70.350000</td>\n",
              "      <td>1397.475000</td>\n",
              "    </tr>\n",
              "    <tr>\n",
              "      <th>75%</th>\n",
              "      <td>0.000000</td>\n",
              "      <td>55.000000</td>\n",
              "      <td>89.862500</td>\n",
              "      <td>3794.737500</td>\n",
              "    </tr>\n",
              "    <tr>\n",
              "      <th>max</th>\n",
              "      <td>1.000000</td>\n",
              "      <td>72.000000</td>\n",
              "      <td>118.750000</td>\n",
              "      <td>8684.800000</td>\n",
              "    </tr>\n",
              "  </tbody>\n",
              "</table>\n",
              "</div>"
            ],
            "text/plain": [
              "       SeniorCitizen       tenure  MonthlyCharges  TotalCharges\n",
              "count    7032.000000  7032.000000     7032.000000   7032.000000\n",
              "mean        0.162400    32.421786       64.798208   2283.300441\n",
              "std         0.368844    24.545260       30.085974   2266.771362\n",
              "min         0.000000     1.000000       18.250000     18.800000\n",
              "25%         0.000000     9.000000       35.587500    401.450000\n",
              "50%         0.000000    29.000000       70.350000   1397.475000\n",
              "75%         0.000000    55.000000       89.862500   3794.737500\n",
              "max         1.000000    72.000000      118.750000   8684.800000"
            ]
          },
          "metadata": {
            "tags": []
          },
          "execution_count": 31
        }
      ]
    },
    {
      "cell_type": "code",
      "metadata": {
        "colab": {
          "base_uri": "https://localhost:8080/"
        },
        "id": "Mpls28Py0jOz",
        "outputId": "5c7cd964-3b23-48f9-d0d7-2a859d63e9f7"
      },
      "source": [
        " Telco.isnull().sum()"
      ],
      "execution_count": 35,
      "outputs": [
        {
          "output_type": "execute_result",
          "data": {
            "text/plain": [
              "customerID          0\n",
              "gender              0\n",
              "SeniorCitizen       0\n",
              "Partner             0\n",
              "Dependents          0\n",
              "tenure              0\n",
              "PhoneService        0\n",
              "MultipleLines       0\n",
              "InternetService     0\n",
              "OnlineSecurity      0\n",
              "OnlineBackup        0\n",
              "DeviceProtection    0\n",
              "TechSupport         0\n",
              "StreamingTV         0\n",
              "StreamingMovies     0\n",
              "Contract            0\n",
              "PaperlessBilling    0\n",
              "PaymentMethod       0\n",
              "MonthlyCharges      0\n",
              "TotalCharges        0\n",
              "Churn               0\n",
              "dtype: int64"
            ]
          },
          "metadata": {
            "tags": []
          },
          "execution_count": 35
        }
      ]
    },
    {
      "cell_type": "markdown",
      "metadata": {
        "id": "w1szqjjQ1d6r"
      },
      "source": [
        "Great, No missing values \n",
        "Data Looks Clean and Ready for analysis\n"
      ]
    },
    {
      "cell_type": "markdown",
      "metadata": {
        "id": "JwDhRwXE2ZLo"
      },
      "source": [
        "# **Exploratory Analysis**\n"
      ]
    },
    {
      "cell_type": "code",
      "metadata": {
        "colab": {
          "base_uri": "https://localhost:8080/"
        },
        "id": "ardXQ88o2ppr",
        "outputId": "788dba13-7dc8-4783-ef85-46d39ee7a3a5"
      },
      "source": [
        "Telco.columns"
      ],
      "execution_count": 36,
      "outputs": [
        {
          "output_type": "execute_result",
          "data": {
            "text/plain": [
              "Index(['customerID', 'gender', 'SeniorCitizen', 'Partner', 'Dependents',\n",
              "       'tenure', 'PhoneService', 'MultipleLines', 'InternetService',\n",
              "       'OnlineSecurity', 'OnlineBackup', 'DeviceProtection', 'TechSupport',\n",
              "       'StreamingTV', 'StreamingMovies', 'Contract', 'PaperlessBilling',\n",
              "       'PaymentMethod', 'MonthlyCharges', 'TotalCharges', 'Churn'],\n",
              "      dtype='object')"
            ]
          },
          "metadata": {
            "tags": []
          },
          "execution_count": 36
        }
      ]
    },
    {
      "cell_type": "markdown",
      "metadata": {
        "id": "aE8ovb705eiA"
      },
      "source": [
        "We want to evaluate how all the various factors that influnce churn \n",
        "The various factors to look at in the Telco can be classified into Demographics of Customer, Services signed up for and Account information\n",
        "\n",
        "### **Customer Demographics**\n",
        "These Includes gender, age range, and if they have partners and dependents\n",
        "### **Services**\n",
        "Services that each customer has signed up for – phone, multiple lines, internet, online security, online backup, device protection, tech support, and streaming TV and movies\n",
        "### **Account Information**\n",
        "Customer account information – how long they’ve been a customer, contract, payment method, paperless billing, monthly charges, and total charges\n",
        "### **Target Variable**\n",
        "Customers who left within the last month – the column is called Churn. We would evaluate other factors in respect to the rate of Churn.\n"
      ]
    },
    {
      "cell_type": "code",
      "metadata": {
        "colab": {
          "base_uri": "https://localhost:8080/",
          "height": 599
        },
        "id": "GWjliiFe8s6Y",
        "outputId": "0724fd60-b602-4924-aeae-60e77144c1f3"
      },
      "source": [
        "#Lets look at the Churn rate and Number of customers churning\n",
        "print(Telco.groupby('Churn')['Churn'].count())\n",
        "print('')\n",
        "print('Target Rate %',(Telco[Telco.Churn=='Yes']['customerID'].count()/Telco['customerID'].count()).round(2))\n",
        "sns.countplot(x='Churn',data=Telco, palette='Spectral')\n",
        "plt.rcParams['figure.figsize']=8,6\n",
        "sns.set_style('darkgrid' )"
      ],
      "execution_count": 42,
      "outputs": [
        {
          "output_type": "stream",
          "text": [
            "Churn\n",
            "No     5163\n",
            "Yes    1869\n",
            "Name: Churn, dtype: int64\n",
            "\n",
            "Target Rate % 0.27\n"
          ],
          "name": "stdout"
        },
        {
          "output_type": "display_data",
          "data": {
            "image/png": "[encoded data removed]",
            "text/plain": [
              "<Figure size 1080x576 with 1 Axes>"
            ]
          },
          "metadata": {
            "tags": []
          }
        }
      ]
    },
    {
      "cell_type": "markdown",
      "metadata": {
        "id": "GFu3Xwi2_BnS"
      },
      "source": [
        "The churn is the rate at which customers are leaving the Telco company\n",
        "The plot above shows that their is 27% churn rate of total customers while the remaining 73% stays. Our goal is to evaluate the factors that influnce the 27% churn rate.\n"
      ]
    },
    {
      "cell_type": "markdown",
      "metadata": {
        "id": "zpV1YextY3sK"
      },
      "source": [
        "# **Demographics**"
      ]
    },
    {
      "cell_type": "code",
      "metadata": {
        "colab": {
          "base_uri": "https://localhost:8080/",
          "height": 459
        },
        "id": "KxrPw0wuDCLM",
        "outputId": "c7e87886-a7f6-4a99-a7d8-9e41cd874021"
      },
      "source": [
        "# Set up the matplotlib figure\n",
        "fig, axes = plt.subplots(2, 2, figsize=(12, 7))\n",
        "\n",
        "\n",
        "# plot 1\n",
        "sns.countplot( data= Telco, x='gender',hue='Churn',palette=\"seismic\", ax=axes[0,0])\n",
        "\n",
        "# plot 2\n",
        "sns.countplot( data= Telco, x='SeniorCitizen',hue='Churn', ax=axes[0,1])\n",
        "\n",
        "# plot 3\n",
        "sns.countplot( data= Telco, x='Dependents',hue='Churn', ax=axes[1,0])\n",
        "\n",
        "# plot 4\n",
        "sns.countplot( data= Telco, x='Partner',hue='Churn', palette=\"seismic\",ax=axes[1,1])\n"
      ],
      "execution_count": 53,
      "outputs": [
        {
          "output_type": "execute_result",
          "data": {
            "text/plain": [
              "<matplotlib.axes._subplots.AxesSubplot at 0x7fbfe523b550>"
            ]
          },
          "metadata": {
            "tags": []
          },
          "execution_count": 53
        },
        {
          "output_type": "display_data",
          "data": {
            "image/png": "[encoded data removed]",
            "text/plain": [
              "<Figure size 864x504 with 4 Axes>"
            ]
          },
          "metadata": {
            "tags": []
          }
        }
      ]
    },
    {
      "cell_type": "markdown",
      "metadata": {
        "id": "N3Mn41zZl8Vx"
      },
      "source": [
        "1. Gender seems to have no influence on Customers Churn rate as both male and female churn are equally distributed\n",
        "2. Non Senior citizens are more likly to Churn compare to their senior citizen.\n",
        "3. Customers having no dependents (most likely single and young working without family) are more likely to Churn compared to Customers who have dependents.\n",
        "4. Customers with no Partners are more likely to churn buttering the non dependent Churn rate.\n"
      ]
    },
    {
      "cell_type": "code",
      "metadata": {
        "colab": {
          "base_uri": "https://localhost:8080/",
          "height": 497
        },
        "id": "IK9AacvOVGok",
        "outputId": "8564eb04-3126-4469-81a6-df99d7362613"
      },
      "source": [
        "sns.countplot(data=Telco,x=\"tenure\",hue='Churn')\n",
        "plt.rcParams['figure.figsize']=15,8\n",
        "sns.set_style('darkgrid' )"
      ],
      "execution_count": 57,
      "outputs": [
        {
          "output_type": "display_data",
          "data": {
            "image/png": "[encoded data removed]",
            "text/plain": [
              "<Figure size 1080x576 with 1 Axes>"
            ]
          },
          "metadata": {
            "tags": []
          }
        }
      ]
    },
    {
      "cell_type": "markdown",
      "metadata": {
        "id": "10vzkPHkXtv1"
      },
      "source": [
        "The Tenure is the Number of Months the Customer have stayed with the company, from the analysis, Newer Customers who have spent less than 30 months have higher likelihood of churning compared to customers who have stayed longer with the company. Further Analysis will reveal more on the reasons for Churning."
      ]
    },
    {
      "cell_type": "markdown",
      "metadata": {
        "id": "cY7kJfTDZH5t"
      },
      "source": [
        "# **Services**"
      ]
    },
    {
      "cell_type": "code",
      "metadata": {
        "colab": {
          "base_uri": "https://localhost:8080/",
          "height": 459
        },
        "id": "l6TZQuF-aInR",
        "outputId": "946f89f2-b874-4a89-bace-88a64f625f2e"
      },
      "source": [
        "\n",
        "# Set up the matplotlib figure\n",
        "fig, axes = plt.subplots(2, 2, figsize=(12, 7))\n",
        "# plot 1\n",
        "sns.countplot( data= Telco, x='PhoneService',hue='Churn',palette=\"seismic\", ax=axes[0,0])\n",
        "# plot 2\n",
        "sns.countplot( data= Telco, x='MultipleLines',hue='Churn', ax=axes[0,1])\n",
        "# plot 3\n",
        "sns.countplot( data= Telco, x='InternetService',hue='Churn', ax=axes[1,0])\n",
        "# plot 4\n",
        "sns.countplot( data= Telco, x='OnlineSecurity',hue='Churn', palette=\"seismic\",ax=axes[1,1])\n"
      ],
      "execution_count": 59,
      "outputs": [
        {
          "output_type": "execute_result",
          "data": {
            "text/plain": [
              "<matplotlib.axes._subplots.AxesSubplot at 0x7fbfe48c5890>"
            ]
          },
          "metadata": {
            "tags": []
          },
          "execution_count": 59
        },
        {
          "output_type": "display_data",
          "data": {
            "image/png": "[encoded data removed]",
            "text/plain": [
              "<Figure size 864x504 with 4 Axes>"
            ]
          },
          "metadata": {
            "tags": []
          }
        }
      ]
    },
    {
      "cell_type": "markdown",
      "metadata": {
        "id": "kVL2-nW7qad_"
      },
      "source": [
        "It can be seen from the above plots that services offered by Telco are the biggest factor that affect the Churn rate of customers\n",
        "1. Customer with No online Security happens to churn the Most as compare with customers that have online security and no internet services.\n",
        "2. Customers with Fiber Optic as Internet services looks more likely to churn, this might be due to cost or quality of the service.\n",
        "3. Customer with Phone service churns more than customers with no phone service\n",
        "4. Customers owing Multilines seem to have very little influence on Churn rate.\n",
        "\n"
      ]
    },
    {
      "cell_type": "code",
      "metadata": {
        "colab": {
          "base_uri": "https://localhost:8080/",
          "height": 459
        },
        "id": "UL1ybDuecPtF",
        "outputId": "bf7b25fd-d307-446a-9810-5e31665e9547"
      },
      "source": [
        "# Set up the matplotlib figure\n",
        "fig, axes = plt.subplots(2, 2, figsize=(12, 7))\n",
        "# plot 1\n",
        "sns.countplot( data= Telco, x='OnlineBackup',hue='Churn',palette=\"seismic\", ax=axes[0,0])\n",
        "# plot 2\n",
        "sns.countplot( data= Telco, x='DeviceProtection',hue='Churn', ax=axes[0,1])\n",
        "# plot 3\n",
        "sns.countplot( data= Telco, x='TechSupport',hue='Churn', ax=axes[1,0])\n",
        "# plot 4\n",
        "sns.countplot( data= Telco, x='StreamingTV',hue='Churn', palette=\"seismic\",ax=axes[1,1])\n"
      ],
      "execution_count": 61,
      "outputs": [
        {
          "output_type": "execute_result",
          "data": {
            "text/plain": [
              "<matplotlib.axes._subplots.AxesSubplot at 0x7fbfe46df210>"
            ]
          },
          "metadata": {
            "tags": []
          },
          "execution_count": 61
        },
        {
          "output_type": "display_data",
          "data": {
            "image/png": "[encoded data removed]",
            "text/plain": [
              "<Figure size 864x504 with 4 Axes>"
            ]
          },
          "metadata": {
            "tags": []
          }
        }
      ]
    },
    {
      "cell_type": "markdown",
      "metadata": {
        "id": "e5DT-I0kudRo"
      },
      "source": [
        "1. Online Backup and TechSupport have a huge inflenuce on the Churn of Customers. customers with NO Tech support or Online Backup Churn way more than their counterparts.\n",
        "2. Telco Customers with no device protection services Churns more than Those that have while streaming TV\n",
        " services seem to have an even distribution with however customers with No streaming services or with streaming services churning higher than those with no internet services."
      ]
    },
    {
      "cell_type": "code",
      "metadata": {
        "colab": {
          "base_uri": "https://localhost:8080/",
          "height": 463
        },
        "id": "lVHfOn5pdcGz",
        "outputId": "e4df2ed2-59e1-4a70-bc85-fada68fe138b"
      },
      "source": [
        "fig, axes = plt.subplots(2, 2, figsize=(12, 7))\n",
        "# plot 1\n",
        "sns.countplot( data= Telco, x='StreamingMovies',hue='Churn',palette=\"seismic\", ax=axes[0,0])\n",
        "# plot 2\n",
        "sns.countplot( data= Telco, x='Contract',hue='Churn', ax=axes[0,1])\n",
        "# plot 3\n",
        "sns.countplot( data= Telco, x='PaperlessBilling',hue='Churn', ax=axes[1,0])\n",
        "# plot 4\n",
        "sns.countplot( data= Telco, x='PaymentMethod',hue='Churn', palette=\"seismic\",ax=axes[1,1])"
      ],
      "execution_count": 63,
      "outputs": [
        {
          "output_type": "execute_result",
          "data": {
            "text/plain": [
              "<matplotlib.axes._subplots.AxesSubplot at 0x7fbfe4587d90>"
            ]
          },
          "metadata": {
            "tags": []
          },
          "execution_count": 63
        },
        {
          "output_type": "display_data",
          "data": {
            "image/png": "[encoded data removed]",
            "text/plain": [
              "<Figure size 864x504 with 4 Axes>"
            ]
          },
          "metadata": {
            "tags": []
          }
        }
      ]
    },
    {
      "cell_type": "markdown",
      "metadata": {
        "id": "6d_wfa8dwkI2"
      },
      "source": [
        "For Payment services\n",
        "1. Customers who use Paperless Billing most likely churn out of which those paying via Electronic Check Churns the highest compare to other payment methods.\n",
        "2. Customers on Month to Month contract Churns the highest while the streaming movies service also have a somehoe even distribution of churn customers."
      ]
    },
    {
      "cell_type": "code",
      "metadata": {
        "colab": {
          "base_uri": "https://localhost:8080/"
        },
        "id": "eBbXC3IUeamo",
        "outputId": "1120a775-93ed-40d7-b704-a7e535559965"
      },
      "source": [
        "Telco.columns"
      ],
      "execution_count": 64,
      "outputs": [
        {
          "output_type": "execute_result",
          "data": {
            "text/plain": [
              "Index(['customerID', 'gender', 'SeniorCitizen', 'Partner', 'Dependents',\n",
              "       'tenure', 'PhoneService', 'MultipleLines', 'InternetService',\n",
              "       'OnlineSecurity', 'OnlineBackup', 'DeviceProtection', 'TechSupport',\n",
              "       'StreamingTV', 'StreamingMovies', 'Contract', 'PaperlessBilling',\n",
              "       'PaymentMethod', 'MonthlyCharges', 'TotalCharges', 'Churn'],\n",
              "      dtype='object')"
            ]
          },
          "metadata": {
            "tags": []
          },
          "execution_count": 64
        }
      ]
    },
    {
      "cell_type": "code",
      "metadata": {
        "colab": {
          "base_uri": "https://localhost:8080/",
          "height": 386
        },
        "id": "2H54OJ3Cefrq",
        "outputId": "68540b12-799d-4b7f-b7f8-22ef803620e8"
      },
      "source": [
        "\n",
        "sns.displot( data=Telco, x='MonthlyCharges',hue='Churn')"
      ],
      "execution_count": 71,
      "outputs": [
        {
          "output_type": "execute_result",
          "data": {
            "text/plain": [
              "<seaborn.axisgrid.FacetGrid at 0x7fbfeae38510>"
            ]
          },
          "metadata": {
            "tags": []
          },
          "execution_count": 71
        },
        {
          "output_type": "display_data",
          "data": {
            "image/png": "[encoded data removed]",
            "text/plain": [
              "<Figure size 412x360 with 1 Axes>"
            ]
          },
          "metadata": {
            "tags": []
          }
        }
      ]
    },
    {
      "cell_type": "markdown",
      "metadata": {
        "id": "rpXgw9COy2j5"
      },
      "source": [
        "Monthly Charges are great indicators for Churn rate and it reflect quiet evidently in this plot as customers that spend more on the 80 - 100 dollar rate are more likely to churn compared to customers who pay less on monthly charges."
      ]
    },
    {
      "cell_type": "code",
      "metadata": {
        "colab": {
          "base_uri": "https://localhost:8080/",
          "height": 386
        },
        "id": "vxJJbISBiWvG",
        "outputId": "24f4fb19-23af-4b5d-aa76-f27cfb7c2e9f"
      },
      "source": [
        "sns.displot( data=Telco, x='TotalCharges',hue='Churn')"
      ],
      "execution_count": 72,
      "outputs": [
        {
          "output_type": "execute_result",
          "data": {
            "text/plain": [
              "<seaborn.axisgrid.FacetGrid at 0x7fbfe55e7110>"
            ]
          },
          "metadata": {
            "tags": []
          },
          "execution_count": 72
        },
        {
          "output_type": "display_data",
          "data": {
            "image/png": "[encoded data removed]",
            "text/plain": [
              "<Figure size 412x360 with 1 Axes>"
            ]
          },
          "metadata": {
            "tags": []
          }
        }
      ]
    },
    {
      "cell_type": "markdown",
      "metadata": {
        "id": "vcSshqwq0ByL"
      },
      "source": [
        "# **Derived Insights**\n",
        "\n",
        "From our investigation above, we can conclude that tenure, payment method,tech support,contract,device protection, monthly charges,online backup, online security and internet service all contribute to the reason why customers leave the company.\n",
        "\n",
        "Customers that did not use the services(device protection,tech support,online security and online backup) would most likely churn.This could be as a result of dissatisfaction after subscribing for packages which did not include all of the above services or customers were not aware of other packages which would include all of these services or the other packages were too expensive to afford. This could have contributed to why customers are leaving the company.\n",
        "\n",
        "A very large number of customers that used Electronic check for payment left the company. This could be linked to several other factors. This should be further investigated.\n",
        "\n",
        "From our visualization, we can see that the rate at which customers churned for the first 6 month is very high. There is a possibility that customers pay more for the services offered by Telco compared to what they pay previously. We need to investigate further why new customers tend to leave the company after their first few months.\n",
        "\n",
        "Customers using the Fibre optic are very likely to churn from the company this could be as a result of dissatisfaction, price or other companies offer the same services at a cheaper rate (competition).\n",
        "\n",
        "Customers who subscribed monthly also churned the most, probably because other companies had a lot more to offer at a reduced rate.It can be said that new customers are not loyal to the company.\n",
        "\n",
        "There is a possibility that the high number of customers that churned after their first few months could be related to the internet service used, payment method, services subscribed for and those not subscribed for and the charges the customers paid monthly.\n",
        "\n"
      ]
    },
    {
      "cell_type": "markdown",
      "metadata": {
        "id": "DXr0AOZp0S4a"
      },
      "source": [
        "# **Suggested Solutions**\n",
        "Telco should focus on providing services that would make recent customers loyal. New customers should be made aware of the several internet services available and the packages that comes with each.\n",
        "\n",
        "Customers should also be informed on the several service options available, this would help them to be better informed and select services that would give them more satisfaction. This would help reduce the number of customers leaving the company.\n",
        "\n",
        "The company should also investigate why most customers that use fibre optic churned, if this is as a result of competition from other companies then packages can be introduced to new customers which would help keep them.These packages can also be subsidized for recent customers.\n"
      ]
    },
    {
      "cell_type": "code",
      "metadata": {
        "id": "A63sZGsL0fdn"
      },
      "source": [
        ""
      ],
      "execution_count": null,
      "outputs": []
    }
  ]
}